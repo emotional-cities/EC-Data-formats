{
 "cells": [
  {
   "cell_type": "code",
   "execution_count": 1,
   "id": "da25bab5",
   "metadata": {},
   "outputs": [],
   "source": [
    "from schema import Schema, And, Use, Optional, SchemaError\n",
    "import requests\n",
    "import yaml\n",
    "from os.path import exists"
   ]
  },
  {
   "cell_type": "code",
   "execution_count": 2,
   "id": "c4f0f7fc",
   "metadata": {},
   "outputs": [],
   "source": [
    "schema_path = '../../yaml_schemas/recordGeoJSON.yaml'\n",
    "\n",
    "if(exists(schema_path)):\n",
    "    with open(schema_path, 'r') as file:\n",
    "        schema = Schema(yaml.safe_load(file))\n",
    "else:\n",
    "    print('SCHEMA NOT FOUND AT LOCATION ' + schema_path)"
   ]
  },
  {
   "cell_type": "markdown",
   "id": "8a44005c",
   "metadata": {},
   "source": [
    "Put here the URL of the metadata JSON file you want to validate"
   ]
  },
  {
   "cell_type": "code",
   "execution_count": 3,
   "id": "15029b70",
   "metadata": {},
   "outputs": [],
   "source": [
    "metadata_json_url = \"https://raw.githubusercontent.com/opengeospatial/ogcapi-records/master/core/examples/json/record.json\""
   ]
  },
  {
   "cell_type": "code",
   "execution_count": 4,
   "id": "5dcf4ad7",
   "metadata": {},
   "outputs": [
    {
     "name": "stdout",
     "output_type": "stream",
     "text": [
      "Key 'type' error:\n",
      "'object' does not match 'Feature'\n"
     ]
    }
   ],
   "source": [
    "r = requests.get(metadata_json_url)\n",
    "data = r.json()\n",
    "\n",
    "try:\n",
    "    schema.validate(data)\n",
    "except SchemaError as e:\n",
    "    print(e)"
   ]
  }
 ],
 "metadata": {
  "kernelspec": {
   "display_name": "Python 3 (ipykernel)",
   "language": "python",
   "name": "python3"
  },
  "language_info": {
   "codemirror_mode": {
    "name": "ipython",
    "version": 3
   },
   "file_extension": ".py",
   "mimetype": "text/x-python",
   "name": "python",
   "nbconvert_exporter": "python",
   "pygments_lexer": "ipython3",
   "version": "3.10.6"
  }
 },
 "nbformat": 4,
 "nbformat_minor": 5
}
