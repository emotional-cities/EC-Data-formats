{
 "cells": [
  {
   "cell_type": "code",
   "execution_count": 11,
   "id": "da25bab5",
   "metadata": {},
   "outputs": [],
   "source": [
    "# from schema import Schema, SchemaError\n",
    "import requests\n",
    "import json\n",
    "import os\n",
    "import jsonschema\n",
    "from pathlib import Path"
   ]
  },
  {
   "cell_type": "code",
   "execution_count": 35,
   "id": "c4f0f7fc",
   "metadata": {},
   "outputs": [],
   "source": [
    "schema_path = '../../json_schemas/recordGeoJSON.json'\n",
    "\n",
    "if(os.path.exists(schema_path)):\n",
    "    with open(schema_path, 'r') as file:\n",
    "        #schema = Schema(yaml.safe_load(file))\n",
    "        schema = json.load(file)\n",
    "        #resolver = jsonschema.RefResolver(schema_path, yaml_data)\n",
    "        sSchemaDir = os.path.dirname(os.path.abspath(schema_path))\n",
    "        schema_store = {}\n",
    "        for source in Path(\"../../json_schemas\").iterdir():\n",
    "            schema_store[os.path.basename(source).split('/')[-1]] = json.load(open(source, 'r'))\n",
    "        resolver = jsonschema.RefResolver(base_uri=sSchemaDir, referrer=schema, store=schema_store)\n",
    "else:\n",
    "    print('SCHEMA NOT FOUND AT LOCATION ' + schema_path)"
   ]
  },
  {
   "cell_type": "markdown",
   "id": "8a44005c",
   "metadata": {},
   "source": [
    "Put here the URL of the metadata JSON file you want to validate"
   ]
  },
  {
   "cell_type": "code",
   "execution_count": 36,
   "id": "15029b70",
   "metadata": {},
   "outputs": [],
   "source": [
    "metadata_json_url = \"https://raw.githubusercontent.com/opengeospatial/ogcapi-records/master/core/examples/json/record.json\"\n",
    "#metadata_json_url = \"https://emotional.byteroad.net/collections/ec_catalog/items/buil_area_?f=json\""
   ]
  },
  {
   "cell_type": "code",
   "execution_count": 37,
   "id": "5dcf4ad7",
   "metadata": {},
   "outputs": [],
   "source": [
    "r = requests.get(metadata_json_url)\n",
    "data = r.json()\n",
    "#data = json.loads('{\"recordCreated\":\"2023-07-05T08:46:15.097180458Z\",\"@timestamp\":\"2023-07-05T08:46:15.097180458Z\",\"geometry\":{\"type\":\"Polygon\",\"coordinates\":[[[-9.229835564339478,38.69139933303907],[-9.08738707964508,38.69139933303907],[-9.08738707964508,38.79675969109248],[-9.229835564339478,38.79675969109248],[-9.229835564339478,38.69139933303907]]]},\"temporal\":{\"trs\":\"http://www.opengis.net/def/uom/ISO-8601/0/Gregorian\",\"interval\":2021},\"properties\":{\"language\":\"en\",\"contactPoint\":{\"institution\":\" IGOT\",\"name\":\"Paulo Morgado\",\"email\":\" paulo@campus.ul.pt\"},\"created\":\"2023-07-05T08:46:15.097180458Z\",\"extent\":{\"spatial\":{\"bbox\":[[-9.229835564339478,38.69139933303907,-9.08738707964508,38.79675969109248]],\"crs\":\"http://www.opengis.net/def/crs/OGC/1.3/CRS84\"}},\"associations\":{\"0\":{\"type\":\"application/geo+json\",\"rel\":\"item\",\"href\":\"https://emotional.byteroad.net/collections/buil_area_\",\"title\":\"Building area ratio - OGC API Features\"},\"1\":{\"type\":\"application/geo+json\",\"rel\":\"item\",\"href\":\"https://emotional.byteroad.net/collections/buil_area_/tiles\",\"title\":\"Building area ratio - OGC API Tiles\"},\"2\":{\"type\":\"OGC:WMS\",\"rel\":\"item\",\"href\":\"https://emotional.byteroad.net/geoserver/ows?service=WMS&version=1.3.0&request=GetCapabilities\",\"title\":\"Building area ratio - WMS\"}},\"themes\":{\"concepts\":[\"Physical Environment Data\"]},\"updated\":\"2023-07-05T08:46:15.097180458Z\",\"keywords\":[\"built environment, urban design, urban fabric, IGOT, Lisbon\"],\"formats\":[\"HTML\",\"GeoJSON\"],\"description\":\"Data Platform IGOT - Physical Environment Data\",\"publisher\":\"eMOTIONAL Cities\",\"id\":\"buil_area_\",\"title\":\"Building area ratio\"},\"recordUpdated\":\"2023-07-05T08:46:15.097180458Z\",\"@version\":\"1\",\"id\":\"buil_area_\",\"links\":[{\"type\":\"application/json\",\"rel\":\"root\",\"title\":\"The landing page of this server as JSON\",\"href\":\"https://emotional.byteroad.net?f=json\"},{\"type\":\"text/html\",\"rel\":\"root\",\"title\":\"The landing page of this server as HTML\",\"href\":\"https://emotional.byteroad.net?f=html\"},{\"rel\":\"self\",\"type\":\"application/geo+json\",\"title\":\"This document as GeoJSON\",\"href\":\"https://emotional.byteroad.net/collections/ec_catalog/items/buil_area_?f=json\"},{\"rel\":\"alternate\",\"type\":\"application/ld+json\",\"title\":\"This document as RDF (JSON-LD)\",\"href\":\"https://emotional.byteroad.net/collections/ec_catalog/items/buil_area_?f=jsonld\"},{\"rel\":\"alternate\",\"type\":\"text/html\",\"title\":\"This document as HTML\",\"href\":\"https://emotional.byteroad.net/collections/ec_catalog/items/buil_area_?f=html\"},{\"rel\":\"collection\",\"type\":\"application/json\",\"title\":\"eMOTIONAL Cities Metadata catalog\",\"href\":\"https://emotional.byteroad.net/collections/ec_catalog\"}]}')\n",
    "#print(data)"
   ]
  },
  {
   "cell_type": "code",
   "execution_count": 38,
   "id": "575740dd",
   "metadata": {},
   "outputs": [
    {
     "ename": "RefResolutionError",
     "evalue": "unknown url type: '/home/antos/Documents/Projects/EC-DataFormats/metadata/confClasses.json'",
     "output_type": "error",
     "traceback": [
      "\u001b[0;31m---------------------------------------------------------------------------\u001b[0m",
      "\u001b[0;31mKeyError\u001b[0m                                  Traceback (most recent call last)",
      "File \u001b[0;32m~/.cache/pypoetry/virtualenvs/schema-validate-Mp65o7Qi-py3.10/lib/python3.10/site-packages/jsonschema/validators.py:909\u001b[0m, in \u001b[0;36mRefResolver.resolve_from_url\u001b[0;34m(self, url)\u001b[0m\n\u001b[1;32m    908\u001b[0m \u001b[38;5;28;01mtry\u001b[39;00m:\n\u001b[0;32m--> 909\u001b[0m     document \u001b[38;5;241m=\u001b[39m \u001b[38;5;28;43mself\u001b[39;49m\u001b[38;5;241;43m.\u001b[39;49m\u001b[43mstore\u001b[49m\u001b[43m[\u001b[49m\u001b[43murl\u001b[49m\u001b[43m]\u001b[49m\n\u001b[1;32m    910\u001b[0m \u001b[38;5;28;01mexcept\u001b[39;00m \u001b[38;5;167;01mKeyError\u001b[39;00m:\n",
      "File \u001b[0;32m~/.cache/pypoetry/virtualenvs/schema-validate-Mp65o7Qi-py3.10/lib/python3.10/site-packages/jsonschema/_utils.py:28\u001b[0m, in \u001b[0;36mURIDict.__getitem__\u001b[0;34m(self, uri)\u001b[0m\n\u001b[1;32m     27\u001b[0m \u001b[38;5;28;01mdef\u001b[39;00m \u001b[38;5;21m__getitem__\u001b[39m(\u001b[38;5;28mself\u001b[39m, uri):\n\u001b[0;32m---> 28\u001b[0m     \u001b[38;5;28;01mreturn\u001b[39;00m \u001b[38;5;28;43mself\u001b[39;49m\u001b[38;5;241;43m.\u001b[39;49m\u001b[43mstore\u001b[49m\u001b[43m[\u001b[49m\u001b[38;5;28;43mself\u001b[39;49m\u001b[38;5;241;43m.\u001b[39;49m\u001b[43mnormalize\u001b[49m\u001b[43m(\u001b[49m\u001b[43muri\u001b[49m\u001b[43m)\u001b[49m\u001b[43m]\u001b[49m\n",
      "\u001b[0;31mKeyError\u001b[0m: '/home/antos/Documents/Projects/EC-DataFormats/metadata/confClasses.json'",
      "\nDuring handling of the above exception, another exception occurred:\n",
      "\u001b[0;31mValueError\u001b[0m                                Traceback (most recent call last)",
      "File \u001b[0;32m~/.cache/pypoetry/virtualenvs/schema-validate-Mp65o7Qi-py3.10/lib/python3.10/site-packages/jsonschema/validators.py:912\u001b[0m, in \u001b[0;36mRefResolver.resolve_from_url\u001b[0;34m(self, url)\u001b[0m\n\u001b[1;32m    911\u001b[0m \u001b[38;5;28;01mtry\u001b[39;00m:\n\u001b[0;32m--> 912\u001b[0m     document \u001b[38;5;241m=\u001b[39m \u001b[38;5;28;43mself\u001b[39;49m\u001b[38;5;241;43m.\u001b[39;49m\u001b[43mresolve_remote\u001b[49m\u001b[43m(\u001b[49m\u001b[43murl\u001b[49m\u001b[43m)\u001b[49m\n\u001b[1;32m    913\u001b[0m \u001b[38;5;28;01mexcept\u001b[39;00m \u001b[38;5;167;01mException\u001b[39;00m \u001b[38;5;28;01mas\u001b[39;00m exc:\n",
      "File \u001b[0;32m~/.cache/pypoetry/virtualenvs/schema-validate-Mp65o7Qi-py3.10/lib/python3.10/site-packages/jsonschema/validators.py:1018\u001b[0m, in \u001b[0;36mRefResolver.resolve_remote\u001b[0;34m(self, uri)\u001b[0m\n\u001b[1;32m   1016\u001b[0m \u001b[38;5;28;01melse\u001b[39;00m:\n\u001b[1;32m   1017\u001b[0m     \u001b[38;5;66;03m# Otherwise, pass off to urllib and assume utf-8\u001b[39;00m\n\u001b[0;32m-> 1018\u001b[0m     \u001b[38;5;28;01mwith\u001b[39;00m \u001b[43murlopen\u001b[49m\u001b[43m(\u001b[49m\u001b[43muri\u001b[49m\u001b[43m)\u001b[49m \u001b[38;5;28;01mas\u001b[39;00m url:\n\u001b[1;32m   1019\u001b[0m         result \u001b[38;5;241m=\u001b[39m json\u001b[38;5;241m.\u001b[39mloads(url\u001b[38;5;241m.\u001b[39mread()\u001b[38;5;241m.\u001b[39mdecode(\u001b[38;5;124m\"\u001b[39m\u001b[38;5;124mutf-8\u001b[39m\u001b[38;5;124m\"\u001b[39m))\n",
      "File \u001b[0;32m/usr/lib/python3.10/urllib/request.py:216\u001b[0m, in \u001b[0;36murlopen\u001b[0;34m(url, data, timeout, cafile, capath, cadefault, context)\u001b[0m\n\u001b[1;32m    215\u001b[0m     opener \u001b[38;5;241m=\u001b[39m _opener\n\u001b[0;32m--> 216\u001b[0m \u001b[38;5;28;01mreturn\u001b[39;00m \u001b[43mopener\u001b[49m\u001b[38;5;241;43m.\u001b[39;49m\u001b[43mopen\u001b[49m\u001b[43m(\u001b[49m\u001b[43murl\u001b[49m\u001b[43m,\u001b[49m\u001b[43m \u001b[49m\u001b[43mdata\u001b[49m\u001b[43m,\u001b[49m\u001b[43m \u001b[49m\u001b[43mtimeout\u001b[49m\u001b[43m)\u001b[49m\n",
      "File \u001b[0;32m/usr/lib/python3.10/urllib/request.py:503\u001b[0m, in \u001b[0;36mOpenerDirector.open\u001b[0;34m(self, fullurl, data, timeout)\u001b[0m\n\u001b[1;32m    502\u001b[0m \u001b[38;5;28;01mif\u001b[39;00m \u001b[38;5;28misinstance\u001b[39m(fullurl, \u001b[38;5;28mstr\u001b[39m):\n\u001b[0;32m--> 503\u001b[0m     req \u001b[38;5;241m=\u001b[39m \u001b[43mRequest\u001b[49m\u001b[43m(\u001b[49m\u001b[43mfullurl\u001b[49m\u001b[43m,\u001b[49m\u001b[43m \u001b[49m\u001b[43mdata\u001b[49m\u001b[43m)\u001b[49m\n\u001b[1;32m    504\u001b[0m \u001b[38;5;28;01melse\u001b[39;00m:\n",
      "File \u001b[0;32m/usr/lib/python3.10/urllib/request.py:322\u001b[0m, in \u001b[0;36mRequest.__init__\u001b[0;34m(self, url, data, headers, origin_req_host, unverifiable, method)\u001b[0m\n\u001b[1;32m    319\u001b[0m \u001b[38;5;28;01mdef\u001b[39;00m \u001b[38;5;21m__init__\u001b[39m(\u001b[38;5;28mself\u001b[39m, url, data\u001b[38;5;241m=\u001b[39m\u001b[38;5;28;01mNone\u001b[39;00m, headers\u001b[38;5;241m=\u001b[39m{},\n\u001b[1;32m    320\u001b[0m              origin_req_host\u001b[38;5;241m=\u001b[39m\u001b[38;5;28;01mNone\u001b[39;00m, unverifiable\u001b[38;5;241m=\u001b[39m\u001b[38;5;28;01mFalse\u001b[39;00m,\n\u001b[1;32m    321\u001b[0m              method\u001b[38;5;241m=\u001b[39m\u001b[38;5;28;01mNone\u001b[39;00m):\n\u001b[0;32m--> 322\u001b[0m     \u001b[38;5;28;43mself\u001b[39;49m\u001b[38;5;241;43m.\u001b[39;49m\u001b[43mfull_url\u001b[49m \u001b[38;5;241m=\u001b[39m url\n\u001b[1;32m    323\u001b[0m     \u001b[38;5;28mself\u001b[39m\u001b[38;5;241m.\u001b[39mheaders \u001b[38;5;241m=\u001b[39m {}\n",
      "File \u001b[0;32m/usr/lib/python3.10/urllib/request.py:348\u001b[0m, in \u001b[0;36mRequest.full_url\u001b[0;34m(self, url)\u001b[0m\n\u001b[1;32m    347\u001b[0m \u001b[38;5;28mself\u001b[39m\u001b[38;5;241m.\u001b[39m_full_url, \u001b[38;5;28mself\u001b[39m\u001b[38;5;241m.\u001b[39mfragment \u001b[38;5;241m=\u001b[39m _splittag(\u001b[38;5;28mself\u001b[39m\u001b[38;5;241m.\u001b[39m_full_url)\n\u001b[0;32m--> 348\u001b[0m \u001b[38;5;28;43mself\u001b[39;49m\u001b[38;5;241;43m.\u001b[39;49m\u001b[43m_parse\u001b[49m\u001b[43m(\u001b[49m\u001b[43m)\u001b[49m\n",
      "File \u001b[0;32m/usr/lib/python3.10/urllib/request.py:377\u001b[0m, in \u001b[0;36mRequest._parse\u001b[0;34m(self)\u001b[0m\n\u001b[1;32m    376\u001b[0m \u001b[38;5;28;01mif\u001b[39;00m \u001b[38;5;28mself\u001b[39m\u001b[38;5;241m.\u001b[39mtype \u001b[38;5;129;01mis\u001b[39;00m \u001b[38;5;28;01mNone\u001b[39;00m:\n\u001b[0;32m--> 377\u001b[0m     \u001b[38;5;28;01mraise\u001b[39;00m \u001b[38;5;167;01mValueError\u001b[39;00m(\u001b[38;5;124m\"\u001b[39m\u001b[38;5;124munknown url type: \u001b[39m\u001b[38;5;132;01m%r\u001b[39;00m\u001b[38;5;124m\"\u001b[39m \u001b[38;5;241m%\u001b[39m \u001b[38;5;28mself\u001b[39m\u001b[38;5;241m.\u001b[39mfull_url)\n\u001b[1;32m    378\u001b[0m \u001b[38;5;28mself\u001b[39m\u001b[38;5;241m.\u001b[39mhost, \u001b[38;5;28mself\u001b[39m\u001b[38;5;241m.\u001b[39mselector \u001b[38;5;241m=\u001b[39m _splithost(rest)\n",
      "\u001b[0;31mValueError\u001b[0m: unknown url type: '/home/antos/Documents/Projects/EC-DataFormats/metadata/confClasses.json'",
      "\nDuring handling of the above exception, another exception occurred:\n",
      "\u001b[0;31mRefResolutionError\u001b[0m                        Traceback (most recent call last)",
      "Cell \u001b[0;32mIn[38], line 2\u001b[0m\n\u001b[1;32m      1\u001b[0m \u001b[38;5;28;01mtry\u001b[39;00m:\n\u001b[0;32m----> 2\u001b[0m     \u001b[43mjsonschema\u001b[49m\u001b[38;5;241;43m.\u001b[39;49m\u001b[43mvalidate\u001b[49m\u001b[43m(\u001b[49m\u001b[43minstance\u001b[49m\u001b[38;5;241;43m=\u001b[39;49m\u001b[43mdata\u001b[49m\u001b[43m,\u001b[49m\u001b[43m \u001b[49m\u001b[43mschema\u001b[49m\u001b[38;5;241;43m=\u001b[39;49m\u001b[43mschema\u001b[49m\u001b[43m,\u001b[49m\u001b[43m \u001b[49m\u001b[43mresolver\u001b[49m\u001b[38;5;241;43m=\u001b[39;49m\u001b[43mresolver\u001b[49m\u001b[43m)\u001b[49m\n\u001b[1;32m      3\u001b[0m \u001b[38;5;28;01mexcept\u001b[39;00m jsonschema\u001b[38;5;241m.\u001b[39mSchemaError \u001b[38;5;28;01mas\u001b[39;00m e:\n\u001b[1;32m      4\u001b[0m     \u001b[38;5;28mprint\u001b[39m(e)\n",
      "File \u001b[0;32m~/.cache/pypoetry/virtualenvs/schema-validate-Mp65o7Qi-py3.10/lib/python3.10/site-packages/jsonschema/validators.py:1119\u001b[0m, in \u001b[0;36mvalidate\u001b[0;34m(instance, schema, cls, *args, **kwargs)\u001b[0m\n\u001b[1;32m   1117\u001b[0m \u001b[38;5;28mcls\u001b[39m\u001b[38;5;241m.\u001b[39mcheck_schema(schema)\n\u001b[1;32m   1118\u001b[0m validator \u001b[38;5;241m=\u001b[39m \u001b[38;5;28mcls\u001b[39m(schema, \u001b[38;5;241m*\u001b[39margs, \u001b[38;5;241m*\u001b[39m\u001b[38;5;241m*\u001b[39mkwargs)\n\u001b[0;32m-> 1119\u001b[0m error \u001b[38;5;241m=\u001b[39m \u001b[43mexceptions\u001b[49m\u001b[38;5;241;43m.\u001b[39;49m\u001b[43mbest_match\u001b[49m\u001b[43m(\u001b[49m\u001b[43mvalidator\u001b[49m\u001b[38;5;241;43m.\u001b[39;49m\u001b[43miter_errors\u001b[49m\u001b[43m(\u001b[49m\u001b[43minstance\u001b[49m\u001b[43m)\u001b[49m\u001b[43m)\u001b[49m\n\u001b[1;32m   1120\u001b[0m \u001b[38;5;28;01mif\u001b[39;00m error \u001b[38;5;129;01mis\u001b[39;00m \u001b[38;5;129;01mnot\u001b[39;00m \u001b[38;5;28;01mNone\u001b[39;00m:\n\u001b[1;32m   1121\u001b[0m     \u001b[38;5;28;01mraise\u001b[39;00m error\n",
      "File \u001b[0;32m~/.cache/pypoetry/virtualenvs/schema-validate-Mp65o7Qi-py3.10/lib/python3.10/site-packages/jsonschema/exceptions.py:384\u001b[0m, in \u001b[0;36mbest_match\u001b[0;34m(errors, key)\u001b[0m\n\u001b[1;32m    346\u001b[0m \u001b[38;5;250m\u001b[39m\u001b[38;5;124;03m\"\"\"\u001b[39;00m\n\u001b[1;32m    347\u001b[0m \u001b[38;5;124;03mTry to find an error that appears to be the best match among given errors.\u001b[39;00m\n\u001b[1;32m    348\u001b[0m \n\u001b[0;32m   (...)\u001b[0m\n\u001b[1;32m    381\u001b[0m \u001b[38;5;124;03m    set of inputs from version to version if better heuristics are added.\u001b[39;00m\n\u001b[1;32m    382\u001b[0m \u001b[38;5;124;03m\"\"\"\u001b[39;00m\n\u001b[1;32m    383\u001b[0m errors \u001b[38;5;241m=\u001b[39m \u001b[38;5;28miter\u001b[39m(errors)\n\u001b[0;32m--> 384\u001b[0m best \u001b[38;5;241m=\u001b[39m \u001b[38;5;28;43mnext\u001b[39;49m\u001b[43m(\u001b[49m\u001b[43merrors\u001b[49m\u001b[43m,\u001b[49m\u001b[43m \u001b[49m\u001b[38;5;28;43;01mNone\u001b[39;49;00m\u001b[43m)\u001b[49m\n\u001b[1;32m    385\u001b[0m \u001b[38;5;28;01mif\u001b[39;00m best \u001b[38;5;129;01mis\u001b[39;00m \u001b[38;5;28;01mNone\u001b[39;00m:\n\u001b[1;32m    386\u001b[0m     \u001b[38;5;28;01mreturn\u001b[39;00m\n",
      "File \u001b[0;32m~/.cache/pypoetry/virtualenvs/schema-validate-Mp65o7Qi-py3.10/lib/python3.10/site-packages/jsonschema/validators.py:288\u001b[0m, in \u001b[0;36mcreate.<locals>.Validator.iter_errors\u001b[0;34m(self, instance, _schema)\u001b[0m\n\u001b[1;32m    285\u001b[0m     \u001b[38;5;28;01mcontinue\u001b[39;00m\n\u001b[1;32m    287\u001b[0m errors \u001b[38;5;241m=\u001b[39m validator(\u001b[38;5;28mself\u001b[39m, v, instance, _schema) \u001b[38;5;129;01mor\u001b[39;00m ()\n\u001b[0;32m--> 288\u001b[0m \u001b[38;5;28;01mfor\u001b[39;00m error \u001b[38;5;129;01min\u001b[39;00m errors:\n\u001b[1;32m    289\u001b[0m     \u001b[38;5;66;03m# set details if not already set by the called fn\u001b[39;00m\n\u001b[1;32m    290\u001b[0m     error\u001b[38;5;241m.\u001b[39m_set(\n\u001b[1;32m    291\u001b[0m         validator\u001b[38;5;241m=\u001b[39mk,\n\u001b[1;32m    292\u001b[0m         validator_value\u001b[38;5;241m=\u001b[39mv,\n\u001b[0;32m   (...)\u001b[0m\n\u001b[1;32m    295\u001b[0m         type_checker\u001b[38;5;241m=\u001b[39m\u001b[38;5;28mself\u001b[39m\u001b[38;5;241m.\u001b[39mTYPE_CHECKER,\n\u001b[1;32m    296\u001b[0m     )\n\u001b[1;32m    297\u001b[0m     \u001b[38;5;28;01mif\u001b[39;00m k \u001b[38;5;129;01mnot\u001b[39;00m \u001b[38;5;129;01min\u001b[39;00m {\u001b[38;5;124m\"\u001b[39m\u001b[38;5;124mif\u001b[39m\u001b[38;5;124m\"\u001b[39m, \u001b[38;5;124m\"\u001b[39m\u001b[38;5;124m$ref\u001b[39m\u001b[38;5;124m\"\u001b[39m}:\n",
      "File \u001b[0;32m~/.cache/pypoetry/virtualenvs/schema-validate-Mp65o7Qi-py3.10/lib/python3.10/site-packages/jsonschema/_validators.py:332\u001b[0m, in \u001b[0;36mproperties\u001b[0;34m(validator, properties, instance, schema)\u001b[0m\n\u001b[1;32m    330\u001b[0m \u001b[38;5;28;01mfor\u001b[39;00m \u001b[38;5;28mproperty\u001b[39m, subschema \u001b[38;5;129;01min\u001b[39;00m properties\u001b[38;5;241m.\u001b[39mitems():\n\u001b[1;32m    331\u001b[0m     \u001b[38;5;28;01mif\u001b[39;00m \u001b[38;5;28mproperty\u001b[39m \u001b[38;5;129;01min\u001b[39;00m instance:\n\u001b[0;32m--> 332\u001b[0m         \u001b[38;5;28;01myield from\u001b[39;00m validator\u001b[38;5;241m.\u001b[39mdescend(\n\u001b[1;32m    333\u001b[0m             instance[\u001b[38;5;28mproperty\u001b[39m],\n\u001b[1;32m    334\u001b[0m             subschema,\n\u001b[1;32m    335\u001b[0m             path\u001b[38;5;241m=\u001b[39m\u001b[38;5;28mproperty\u001b[39m,\n\u001b[1;32m    336\u001b[0m             schema_path\u001b[38;5;241m=\u001b[39m\u001b[38;5;28mproperty\u001b[39m,\n\u001b[1;32m    337\u001b[0m         )\n",
      "File \u001b[0;32m~/.cache/pypoetry/virtualenvs/schema-validate-Mp65o7Qi-py3.10/lib/python3.10/site-packages/jsonschema/validators.py:305\u001b[0m, in \u001b[0;36mcreate.<locals>.Validator.descend\u001b[0;34m(self, instance, schema, path, schema_path)\u001b[0m\n\u001b[1;32m    304\u001b[0m \u001b[38;5;28;01mdef\u001b[39;00m \u001b[38;5;21mdescend\u001b[39m(\u001b[38;5;28mself\u001b[39m, instance, schema, path\u001b[38;5;241m=\u001b[39m\u001b[38;5;28;01mNone\u001b[39;00m, schema_path\u001b[38;5;241m=\u001b[39m\u001b[38;5;28;01mNone\u001b[39;00m):\n\u001b[0;32m--> 305\u001b[0m     \u001b[38;5;28;01mfor\u001b[39;00m error \u001b[38;5;129;01min\u001b[39;00m \u001b[38;5;28mself\u001b[39m\u001b[38;5;241m.\u001b[39mevolve(schema\u001b[38;5;241m=\u001b[39mschema)\u001b[38;5;241m.\u001b[39miter_errors(instance):\n\u001b[1;32m    306\u001b[0m         \u001b[38;5;28;01mif\u001b[39;00m path \u001b[38;5;129;01mis\u001b[39;00m \u001b[38;5;129;01mnot\u001b[39;00m \u001b[38;5;28;01mNone\u001b[39;00m:\n\u001b[1;32m    307\u001b[0m             error\u001b[38;5;241m.\u001b[39mpath\u001b[38;5;241m.\u001b[39mappendleft(path)\n",
      "File \u001b[0;32m~/.cache/pypoetry/virtualenvs/schema-validate-Mp65o7Qi-py3.10/lib/python3.10/site-packages/jsonschema/validators.py:288\u001b[0m, in \u001b[0;36mcreate.<locals>.Validator.iter_errors\u001b[0;34m(self, instance, _schema)\u001b[0m\n\u001b[1;32m    285\u001b[0m     \u001b[38;5;28;01mcontinue\u001b[39;00m\n\u001b[1;32m    287\u001b[0m errors \u001b[38;5;241m=\u001b[39m validator(\u001b[38;5;28mself\u001b[39m, v, instance, _schema) \u001b[38;5;129;01mor\u001b[39;00m ()\n\u001b[0;32m--> 288\u001b[0m \u001b[38;5;28;01mfor\u001b[39;00m error \u001b[38;5;129;01min\u001b[39;00m errors:\n\u001b[1;32m    289\u001b[0m     \u001b[38;5;66;03m# set details if not already set by the called fn\u001b[39;00m\n\u001b[1;32m    290\u001b[0m     error\u001b[38;5;241m.\u001b[39m_set(\n\u001b[1;32m    291\u001b[0m         validator\u001b[38;5;241m=\u001b[39mk,\n\u001b[1;32m    292\u001b[0m         validator_value\u001b[38;5;241m=\u001b[39mv,\n\u001b[0;32m   (...)\u001b[0m\n\u001b[1;32m    295\u001b[0m         type_checker\u001b[38;5;241m=\u001b[39m\u001b[38;5;28mself\u001b[39m\u001b[38;5;241m.\u001b[39mTYPE_CHECKER,\n\u001b[1;32m    296\u001b[0m     )\n\u001b[1;32m    297\u001b[0m     \u001b[38;5;28;01mif\u001b[39;00m k \u001b[38;5;129;01mnot\u001b[39;00m \u001b[38;5;129;01min\u001b[39;00m {\u001b[38;5;124m\"\u001b[39m\u001b[38;5;124mif\u001b[39m\u001b[38;5;124m\"\u001b[39m, \u001b[38;5;124m\"\u001b[39m\u001b[38;5;124m$ref\u001b[39m\u001b[38;5;124m\"\u001b[39m}:\n",
      "File \u001b[0;32m~/.cache/pypoetry/virtualenvs/schema-validate-Mp65o7Qi-py3.10/lib/python3.10/site-packages/jsonschema/_validators.py:294\u001b[0m, in \u001b[0;36mref\u001b[0;34m(validator, ref, instance, schema)\u001b[0m\n\u001b[1;32m    292\u001b[0m         \u001b[38;5;28;01myield from\u001b[39;00m validator\u001b[38;5;241m.\u001b[39mdescend(instance, resolved)\n\u001b[1;32m    293\u001b[0m \u001b[38;5;28;01melse\u001b[39;00m:\n\u001b[0;32m--> 294\u001b[0m     scope, resolved \u001b[38;5;241m=\u001b[39m \u001b[43mvalidator\u001b[49m\u001b[38;5;241;43m.\u001b[39;49m\u001b[43mresolver\u001b[49m\u001b[38;5;241;43m.\u001b[39;49m\u001b[43mresolve\u001b[49m\u001b[43m(\u001b[49m\u001b[43mref\u001b[49m\u001b[43m)\u001b[49m\n\u001b[1;32m    295\u001b[0m     validator\u001b[38;5;241m.\u001b[39mresolver\u001b[38;5;241m.\u001b[39mpush_scope(scope)\n\u001b[1;32m    297\u001b[0m     \u001b[38;5;28;01mtry\u001b[39;00m:\n",
      "File \u001b[0;32m~/.cache/pypoetry/virtualenvs/schema-validate-Mp65o7Qi-py3.10/lib/python3.10/site-packages/jsonschema/validators.py:898\u001b[0m, in \u001b[0;36mRefResolver.resolve\u001b[0;34m(self, ref)\u001b[0m\n\u001b[1;32m    895\u001b[0m \u001b[38;5;28;01mif\u001b[39;00m match \u001b[38;5;129;01mis\u001b[39;00m \u001b[38;5;129;01mnot\u001b[39;00m \u001b[38;5;28;01mNone\u001b[39;00m:\n\u001b[1;32m    896\u001b[0m     \u001b[38;5;28;01mreturn\u001b[39;00m match\n\u001b[0;32m--> 898\u001b[0m \u001b[38;5;28;01mreturn\u001b[39;00m url, \u001b[38;5;28;43mself\u001b[39;49m\u001b[38;5;241;43m.\u001b[39;49m\u001b[43m_remote_cache\u001b[49m\u001b[43m(\u001b[49m\u001b[43murl\u001b[49m\u001b[43m)\u001b[49m\n",
      "File \u001b[0;32m~/.cache/pypoetry/virtualenvs/schema-validate-Mp65o7Qi-py3.10/lib/python3.10/site-packages/jsonschema/validators.py:914\u001b[0m, in \u001b[0;36mRefResolver.resolve_from_url\u001b[0;34m(self, url)\u001b[0m\n\u001b[1;32m    912\u001b[0m         document \u001b[38;5;241m=\u001b[39m \u001b[38;5;28mself\u001b[39m\u001b[38;5;241m.\u001b[39mresolve_remote(url)\n\u001b[1;32m    913\u001b[0m     \u001b[38;5;28;01mexcept\u001b[39;00m \u001b[38;5;167;01mException\u001b[39;00m \u001b[38;5;28;01mas\u001b[39;00m exc:\n\u001b[0;32m--> 914\u001b[0m         \u001b[38;5;28;01mraise\u001b[39;00m exceptions\u001b[38;5;241m.\u001b[39mRefResolutionError(exc)\n\u001b[1;32m    916\u001b[0m \u001b[38;5;28;01mreturn\u001b[39;00m \u001b[38;5;28mself\u001b[39m\u001b[38;5;241m.\u001b[39mresolve_fragment(document, fragment)\n",
      "\u001b[0;31mRefResolutionError\u001b[0m: unknown url type: '/home/antos/Documents/Projects/EC-DataFormats/metadata/confClasses.json'"
     ]
    }
   ],
   "source": [
    "try:\n",
    "    jsonschema.validate(instance=data, schema=schema, resolver=resolver)\n",
    "except jsonschema.SchemaError as e:\n",
    "    print(e)"
   ]
  },
  {
   "cell_type": "code",
   "execution_count": null,
   "id": "88ae30ed",
   "metadata": {},
   "outputs": [],
   "source": []
  },
  {
   "cell_type": "code",
   "execution_count": null,
   "id": "372859e0",
   "metadata": {},
   "outputs": [],
   "source": []
  }
 ],
 "metadata": {
  "kernelspec": {
   "display_name": "Python 3 (ipykernel)",
   "language": "python",
   "name": "python3"
  },
  "language_info": {
   "codemirror_mode": {
    "name": "ipython",
    "version": 3
   },
   "file_extension": ".py",
   "mimetype": "text/x-python",
   "name": "python",
   "nbconvert_exporter": "python",
   "pygments_lexer": "ipython3",
   "version": "3.10.6"
  }
 },
 "nbformat": 4,
 "nbformat_minor": 5
}
